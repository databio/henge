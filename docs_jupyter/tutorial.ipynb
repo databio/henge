{
 "cells": [
  {
   "cell_type": "markdown",
   "metadata": {},
   "source": [
    "# Henge tutorial\n",
    "\n",
    "Henge is a Python package that builds backends for generic decomposable recursive unique identifiers (or, *DRUIDs*). It was started as building block for sequence collections (see [`seqcol`](https://github.com/refgenie/seqcol)), but can also be used for other data types that need content-derived identifiers.\n",
    "\n",
    "## Introduction to DRUIDs\n",
    "\n",
    "A DRUID builds on the concept of a basic key-value database with value-derived identifiers. A henge is ultimately a database that stores values, allowing them to be looked up.\n",
    "\n",
    "In the simplest case, say we're interested in storing strings. We define an algorithm to obtain a unique identifier for the string; for example, we may take the md5 digest of the string. We then store the key (md5 digest) and value (string) in a database, and allow retrieving the the string given its identifier.\n",
    "\n",
    "Henge builds on this basic concept by making the identifiers *decomposable* and *recursive*. In henge, the *value* in the database can represent multiple elements, which may, themselves be independent values stored individually in the database. This enables a recursive lookup of entries that adds power to the basic approach above.\n",
    "\n",
    "## Henge schemas\n",
    "\n",
    "Henge defines data types using JSON-schema. Let's say we want to make a henge that stores and retrieves objects of type *Person*. We define a JSON-schema for a *Person*. In our case, a person has 2 attributes: a string `name`, and an integer `age`: \n"
   ]
  },
  {
   "cell_type": "code",
   "execution_count": 1,
   "metadata": {
    "scrolled": true
   },
   "outputs": [
    {
     "name": "stdout",
     "output_type": "stream",
     "text": [
      "description: \"Person\"\r\n",
      "type: object\r\n",
      "henge_class: person\r\n",
      "properties:\r\n",
      "  name:\r\n",
      "    type: string\r\n",
      "    description: \"String attribute\"\r\n",
      "  age:\r\n",
      "    type: integer\r\n",
      "    description: \"Integer attribute\"\r\n",
      "required:\r\n",
      "  - name\r\n",
      "  "
     ]
    }
   ],
   "source": [
    "!cat \"../tests/data/person.yaml\"                                "
   ]
  },
  {
   "cell_type": "markdown",
   "metadata": {},
   "source": [
    "Now we will create a henge that understands this data type by passing the schema along with a name (\"person\") as a dict to the `schemas` parameter in the `Henge` constructor. You can pass either the schema dict object, or a path to a yaml file."
   ]
  },
  {
   "cell_type": "code",
   "execution_count": 2,
   "metadata": {},
   "outputs": [],
   "source": [
    "import henge\n",
    "person_henge = henge.Henge(database={}, schemas=[\"../tests/data/person.yaml\"])"
   ]
  },
  {
   "cell_type": "code",
   "execution_count": 3,
   "metadata": {},
   "outputs": [
    {
     "data": {
      "text/plain": [
       "['person']"
      ]
     },
     "execution_count": 3,
     "metadata": {},
     "output_type": "execute_result"
    }
   ],
   "source": [
    "person_henge.item_types"
   ]
  },
  {
   "cell_type": "markdown",
   "metadata": {},
   "source": [
    "To enter data into this henge, we use `insert`, providing the object and its type. The henge will use JSON-schema to make sure the object satisfies the schema."
   ]
  },
  {
   "cell_type": "code",
   "execution_count": 4,
   "metadata": {},
   "outputs": [],
   "source": [
    "druid1 = person_henge.insert({\"name\":\"Pat\", \"age\":38}, item_type=\"person\")"
   ]
  },
  {
   "cell_type": "markdown",
   "metadata": {},
   "source": [
    "When you insert an item into the henge, it returns the unique identifier (or, the *DRUID*) for that item. Then, you can use the unique identifier to retrieve the item from the henge."
   ]
  },
  {
   "cell_type": "code",
   "execution_count": 5,
   "metadata": {},
   "outputs": [
    {
     "data": {
      "text/plain": [
       "{'name': 'Pat', 'age': '38'}"
      ]
     },
     "execution_count": 5,
     "metadata": {},
     "output_type": "execute_result"
    }
   ],
   "source": [
    "person_henge.retrieve(druid1)"
   ]
  },
  {
   "cell_type": "markdown",
   "metadata": {},
   "source": [
    "Our schema listed `name` as a required attribute. Here's what happens if we try to insert non-conforming data:"
   ]
  },
  {
   "cell_type": "code",
   "execution_count": 6,
   "metadata": {},
   "outputs": [
    {
     "name": "stderr",
     "output_type": "stream",
     "text": [
      "Not valid data\n",
      "Attempting to insert item: {'first_name': 'Pat', 'age': 38}\n",
      "Item type: person\n"
     ]
    },
    {
     "name": "stdout",
     "output_type": "stream",
     "text": [
      "'name' is a required property\n",
      "\n",
      "Failed validating 'required' in schema:\n",
      "    {'description': 'Person',\n",
      "     'properties': {'age': {'description': 'Integer attribute',\n",
      "                            'type': 'integer'},\n",
      "                    'name': {'description': 'String attribute',\n",
      "                             'type': 'string'}},\n",
      "     'required': ['name'],\n",
      "     'type': 'object'}\n",
      "\n",
      "On instance:\n",
      "    {'age': 38, 'first_name': 'Pat'}\n"
     ]
    },
    {
     "data": {
      "text/plain": [
       "False"
      ]
     },
     "execution_count": 6,
     "metadata": {},
     "output_type": "execute_result"
    }
   ],
   "source": [
    "person_henge.insert({\"first_name\":\"Pat\", \"age\":38}, item_type=\"person\")"
   ]
  },
  {
   "cell_type": "markdown",
   "metadata": {},
   "source": [
    "Record the version used in this tutorial:"
   ]
  },
  {
   "cell_type": "code",
   "execution_count": 7,
   "metadata": {},
   "outputs": [
    {
     "data": {
      "text/plain": [
       "'0.0.2'"
      ]
     },
     "execution_count": 7,
     "metadata": {},
     "output_type": "execute_result"
    }
   ],
   "source": [
    "import henge\n",
    "henge.__version__"
   ]
  },
  {
   "cell_type": "markdown",
   "metadata": {},
   "source": [
    "## A multi-schema example\n",
    "\n",
    "Here we'll use a more complicated example."
   ]
  },
  {
   "cell_type": "code",
   "execution_count": 8,
   "metadata": {},
   "outputs": [
    {
     "name": "stdout",
     "output_type": "stream",
     "text": [
      "description: \"Family\"\r\n",
      "type: object\r\n",
      "henge_class: family\r\n",
      "properties:\r\n",
      "  domicile:\r\n",
      "    type: object\r\n",
      "    henge_class: location\r\n",
      "    properties:\r\n",
      "      address:\r\n",
      "        type: string\r\n",
      "  parents:\r\n",
      "    type: array\r\n",
      "    henge_class: people\r\n",
      "    items:\r\n",
      "      type: object\r\n",
      "      henge_class: person\r\n",
      "      properties:\r\n",
      "        name:\r\n",
      "          type: string\r\n",
      "          description: \"String attribute\"\r\n",
      "        age:\r\n",
      "          type: integer\r\n",
      "          description: \"Integer attribute\"\r\n",
      "      required:\r\n",
      "        - name\r\n",
      "  children:\r\n",
      "    type: array\r\n",
      "    henge_class: people\r\n",
      "    recursive: true\r\n",
      "    items:\r\n",
      "      type: object\r\n",
      "      henge_class: person\r\n",
      "      properties:\r\n",
      "        name:\r\n",
      "          type: string\r\n",
      "          description: \"String attribute\"\r\n",
      "        age:\r\n",
      "          type: integer\r\n",
      "          description: \"Integer attribute\"\r\n",
      "      required:\r\n",
      "        - name\r\n",
      "required:\r\n",
      "  - parents\r\n",
      "recursive:\r\n",
      "  - parents\r\n",
      "  - children\r\n"
     ]
    }
   ],
   "source": [
    "!cat \"../tests/data/family_complete.yaml\" "
   ]
  },
  {
   "cell_type": "code",
   "execution_count": 9,
   "metadata": {
    "scrolled": true
   },
   "outputs": [
    {
     "name": "stdout",
     "output_type": "stream",
     "text": [
      "adding people\n",
      "adding people\n"
     ]
    }
   ],
   "source": [
    "famhenge = henge.Henge(database={}, schemas=[\"../tests/data/family_complete.yaml\"])"
   ]
  },
  {
   "cell_type": "code",
   "execution_count": 10,
   "metadata": {
    "scrolled": true
   },
   "outputs": [
    {
     "data": {
      "text/plain": [
       "['family', 'location', 'people', 'person']"
      ]
     },
     "execution_count": 10,
     "metadata": {},
     "output_type": "execute_result"
    }
   ],
   "source": [
    "famhenge.item_types"
   ]
  },
  {
   "cell_type": "code",
   "execution_count": 11,
   "metadata": {
    "scrolled": true
   },
   "outputs": [],
   "source": [
    "druid1 = famhenge.insert({\"name\":\"Pat\", \"age\":38}, item_type=\"person\")\n",
    "druid2 = famhenge.insert({\"name\":\"Kelly\", \"age\":35}, item_type=\"person\")"
   ]
  },
  {
   "cell_type": "code",
   "execution_count": 12,
   "metadata": {},
   "outputs": [],
   "source": [
    "druid_people = famhenge.insert([druid1, druid2], item_type=\"people\")"
   ]
  },
  {
   "cell_type": "code",
   "execution_count": 13,
   "metadata": {},
   "outputs": [
    {
     "data": {
      "text/plain": [
       "[{'name': 'Pat', 'age': '38'}, {'name': 'Kelly', 'age': '35'}]"
      ]
     },
     "execution_count": 13,
     "metadata": {},
     "output_type": "execute_result"
    }
   ],
   "source": [
    "famhenge.retrieve(druid_people)"
   ]
  },
  {
   "cell_type": "code",
   "execution_count": 14,
   "metadata": {},
   "outputs": [
    {
     "data": {
      "text/plain": [
       "['685a5a70a3d9450e42346bc36ca4ff11', '4d3433cc9446fcf5038a21b088013762']"
      ]
     },
     "execution_count": 14,
     "metadata": {},
     "output_type": "execute_result"
    }
   ],
   "source": [
    "famhenge.retrieve(druid_people, reclimit=0)"
   ]
  },
  {
   "cell_type": "code",
   "execution_count": 15,
   "metadata": {},
   "outputs": [],
   "source": [
    "family_data = {'parents': [{'name': 'Pat', 'age': 35},\n",
    "  {'name': 'Kelly', 'age': 38}],\n",
    " 'children': ''}"
   ]
  },
  {
   "cell_type": "code",
   "execution_count": 16,
   "metadata": {
    "scrolled": true
   },
   "outputs": [
    {
     "name": "stderr",
     "output_type": "stream",
     "text": [
      "Not valid data\n",
      "Attempting to insert item: {'parents': [{'name': 'Pat', 'age': 35}, {'name': 'Kelly', 'age': 38}], 'children': ''}\n",
      "Item type: family\n"
     ]
    },
    {
     "name": "stdout",
     "output_type": "stream",
     "text": [
      "[{'name': 'Pat', 'age': 35}, {'name': 'Kelly', 'age': 38}] is not of type 'string'\n",
      "\n",
      "Failed validating 'type' in schema['properties']['parents']:\n",
      "    {'type': 'string'}\n",
      "\n",
      "On instance['parents']:\n",
      "    [{'age': 35, 'name': 'Pat'}, {'age': 38, 'name': 'Kelly'}]\n"
     ]
    },
    {
     "data": {
      "text/plain": [
       "False"
      ]
     },
     "execution_count": 16,
     "metadata": {},
     "output_type": "execute_result"
    }
   ],
   "source": [
    "famhenge.insert(family_data, item_type=\"family\")"
   ]
  },
  {
   "cell_type": "markdown",
   "metadata": {},
   "source": [
    "You can't do that; the way henge works, you can only insert one-level items in. You have to write a custom function to load multi-level items in.\n",
    "\n",
    "Instead, you use the recursive druids to load the hierarchical items, like this"
   ]
  },
  {
   "cell_type": "code",
   "execution_count": 17,
   "metadata": {},
   "outputs": [],
   "source": [
    "family_data = {'parents': druid_people,\n",
    " 'children': ''}"
   ]
  },
  {
   "cell_type": "code",
   "execution_count": 18,
   "metadata": {},
   "outputs": [],
   "source": [
    "druid_fam = famhenge.insert(family_data, item_type=\"family\")"
   ]
  },
  {
   "cell_type": "code",
   "execution_count": 19,
   "metadata": {},
   "outputs": [
    {
     "data": {
      "text/plain": [
       "{'domicile': '', 'parents': '6a9f4378876423f7d032fc86a5eca4d1', 'children': ''}"
      ]
     },
     "execution_count": 19,
     "metadata": {},
     "output_type": "execute_result"
    }
   ],
   "source": [
    "famhenge.retrieve(druid_fam, reclimit=0)"
   ]
  },
  {
   "cell_type": "code",
   "execution_count": 20,
   "metadata": {},
   "outputs": [
    {
     "data": {
      "text/plain": [
       "{'domicile': '',\n",
       " 'parents': ['685a5a70a3d9450e42346bc36ca4ff11',\n",
       "  '4d3433cc9446fcf5038a21b088013762'],\n",
       " 'children': ''}"
      ]
     },
     "execution_count": 20,
     "metadata": {},
     "output_type": "execute_result"
    }
   ],
   "source": [
    "famhenge.retrieve(druid_fam, reclimit=1)"
   ]
  },
  {
   "cell_type": "code",
   "execution_count": 21,
   "metadata": {
    "scrolled": true
   },
   "outputs": [
    {
     "data": {
      "text/plain": [
       "{'domicile': '',\n",
       " 'parents': [{'name': 'Pat', 'age': '38'}, {'name': 'Kelly', 'age': '35'}],\n",
       " 'children': ''}"
      ]
     },
     "execution_count": 21,
     "metadata": {},
     "output_type": "execute_result"
    }
   ],
   "source": [
    "famhenge.retrieve(druid_fam, reclimit=None)"
   ]
  },
  {
   "cell_type": "markdown",
   "metadata": {},
   "source": [
    "For our data type we can write a load family function that will handle the piecing together, allowing us to use the full hierarchicical data seamlessly"
   ]
  },
  {
   "cell_type": "code",
   "execution_count": 22,
   "metadata": {},
   "outputs": [],
   "source": [
    "def load_family(family, h):\n",
    "\n",
    "    if \"parents\" in family:\n",
    "        temp_digest = []\n",
    "        for person in family[\"parents\"]:\n",
    "            temp_digest.append(h.insert(person, \"person\"))\n",
    "            \n",
    "        parents_digest = h.insert(temp_digest, \"people\")\n",
    "    else:\n",
    "        parents_digest = \"\"\n",
    "        \n",
    "    if \"children\" in family:\n",
    "        temp_digest = []\n",
    "        for person in family[\"children\"]:\n",
    "            temp_digest.append(h.insert(person, \"person\"))\n",
    "            \n",
    "        children_digest = h.insert(temp_digest, \"people\")\n",
    "    else:\n",
    "        children_digest = \"\"\n",
    "    fam2 = {\n",
    "        \"parents\": parents_digest,\n",
    "        \"children\": children_digest\n",
    "    }\n",
    "\n",
    "    return h.insert(fam2, \"family\")"
   ]
  },
  {
   "cell_type": "code",
   "execution_count": 23,
   "metadata": {},
   "outputs": [],
   "source": [
    "family_data = {'parents': [{'name': 'Pat', 'age': 38},\n",
    "  {'name': 'Kelly', 'age': 35}]}\n",
    "druid_fam2 = load_family(family_data, famhenge)"
   ]
  },
  {
   "cell_type": "code",
   "execution_count": 24,
   "metadata": {},
   "outputs": [
    {
     "data": {
      "text/plain": [
       "'f0cb45b0383532c239d48faf457a7448'"
      ]
     },
     "execution_count": 24,
     "metadata": {},
     "output_type": "execute_result"
    }
   ],
   "source": [
    "druid_fam2"
   ]
  },
  {
   "cell_type": "code",
   "execution_count": 25,
   "metadata": {},
   "outputs": [
    {
     "data": {
      "text/plain": [
       "'f0cb45b0383532c239d48faf457a7448'"
      ]
     },
     "execution_count": 25,
     "metadata": {},
     "output_type": "execute_result"
    }
   ],
   "source": [
    "druid_fam"
   ]
  },
  {
   "cell_type": "code",
   "execution_count": 26,
   "metadata": {},
   "outputs": [
    {
     "data": {
      "text/plain": [
       "{'domicile': '',\n",
       " 'parents': [{'name': 'Pat', 'age': '38'}, {'name': 'Kelly', 'age': '35'}],\n",
       " 'children': ''}"
      ]
     },
     "execution_count": 26,
     "metadata": {},
     "output_type": "execute_result"
    }
   ],
   "source": [
    "famhenge.retrieve(druid_fam2)"
   ]
  },
  {
   "cell_type": "code",
   "execution_count": 27,
   "metadata": {},
   "outputs": [
    {
     "name": "stdout",
     "output_type": "stream",
     "text": [
      "685a5a70a3d9450e42346bc36ca4ff11 Pat\u001e",
      "38\n",
      "685a5a70a3d9450e42346bc36ca4ff11_item_type person\n",
      "685a5a70a3d9450e42346bc36ca4ff11_digest_version md5\n",
      "4d3433cc9446fcf5038a21b088013762 Kelly\u001e",
      "35\n",
      "4d3433cc9446fcf5038a21b088013762_item_type person\n",
      "4d3433cc9446fcf5038a21b088013762_digest_version md5\n",
      "6a9f4378876423f7d032fc86a5eca4d1 685a5a70a3d9450e42346bc36ca4ff11\t4d3433cc9446fcf5038a21b088013762\n",
      "6a9f4378876423f7d032fc86a5eca4d1_item_type people\n",
      "6a9f4378876423f7d032fc86a5eca4d1_digest_version md5\n",
      "f0cb45b0383532c239d48faf457a7448 \u001e",
      "6a9f4378876423f7d032fc86a5eca4d1\u001e",
      "\n",
      "f0cb45b0383532c239d48faf457a7448_item_type family\n",
      "f0cb45b0383532c239d48faf457a7448_digest_version md5\n"
     ]
    }
   ],
   "source": [
    "famhenge.show()"
   ]
  },
  {
   "cell_type": "code",
   "execution_count": 28,
   "metadata": {
    "scrolled": true
   },
   "outputs": [
    {
     "data": {
      "text/plain": [
       "{'domicile': '',\n",
       " 'parents': [{'name': 'Pat', 'age': '38'}, {'name': 'Kelly', 'age': '35'}],\n",
       " 'children': ''}"
      ]
     },
     "execution_count": 28,
     "metadata": {},
     "output_type": "execute_result"
    }
   ],
   "source": [
    "famhenge.retrieve(druid_fam, reclimit=None)"
   ]
  },
  {
   "cell_type": "markdown",
   "metadata": {},
   "source": [
    "## The old way\n",
    "\n",
    "We used to do it such that you'd have to insert each item's schema individually. You'd write a regular JSON-Schema document, and then assign it to an item type and provide these to the henge.\n",
    "\n",
    "The challenge with this way is that the schema designer has to handle all the cognitive burden of piecing together the hierarchy of the data structure. In the new system, the schemas are loaded from one schema by adding the 'henge_class' argument, we specify the top-level objects the schema can store, all at once.\n",
    "\n",
    "What's missing at this point is an auto-loader."
   ]
  },
  {
   "cell_type": "code",
   "execution_count": 29,
   "metadata": {},
   "outputs": [],
   "source": [
    "schemas = {\"person\": \"../tests/data/person.yaml\",\n",
    "           \"people\": \"../tests/data/people.yaml\",\n",
    "           \"family\": \"../tests/data/family.yaml\"}\n"
   ]
  },
  {
   "cell_type": "code",
   "execution_count": null,
   "metadata": {},
   "outputs": [],
   "source": []
  },
  {
   "cell_type": "code",
   "execution_count": 30,
   "metadata": {},
   "outputs": [
    {
     "data": {
      "text/plain": [
       "{'person': '../tests/data/person.yaml',\n",
       " 'people': '../tests/data/people.yaml',\n",
       " 'family': '../tests/data/family.yaml'}"
      ]
     },
     "execution_count": 30,
     "metadata": {},
     "output_type": "execute_result"
    }
   ],
   "source": [
    "schemas"
   ]
  },
  {
   "cell_type": "code",
   "execution_count": 31,
   "metadata": {},
   "outputs": [],
   "source": [
    "h = henge.Henge(database={}, schemas=schemas)"
   ]
  },
  {
   "cell_type": "code",
   "execution_count": 32,
   "metadata": {},
   "outputs": [
    {
     "data": {
      "text/plain": [
       "Henge object\n",
       "Item types: person,people,family\n",
       "Schemas: {'person': {'description': 'Person', 'type': 'object', 'henge_class': 'person', 'properties': {'name': {'type': 'string', 'description': 'String attribute'}, 'age': {'type': 'integer', 'description': 'Integer attribute'}}, 'required': ['name']}, 'people': {'description': 'People', 'type': 'array', 'items': {'type': 'object', 'properties': {'name': {'type': 'string', 'description': 'String attribute'}, 'age': {'type': 'integer', 'description': 'Integer attribute'}}, 'required': ['name']}}, 'family': {'description': 'Family', 'type': 'object', 'properties': {'parents': {'type': 'string', 'description': 'array attribute'}, 'children': {'type': 'string'}}, 'required': ['parents'], 'recursive': ['parents', 'children']}}"
      ]
     },
     "execution_count": 32,
     "metadata": {},
     "output_type": "execute_result"
    }
   ],
   "source": [
    "h"
   ]
  },
  {
   "cell_type": "code",
   "execution_count": 33,
   "metadata": {},
   "outputs": [],
   "source": [
    "druid = h.insert({\"name\":\"Pat\", \"age\":35}, item_type=\"person\")"
   ]
  },
  {
   "cell_type": "code",
   "execution_count": 34,
   "metadata": {},
   "outputs": [
    {
     "data": {
      "text/plain": [
       "'975eee5a7a58f09a8bfa0f9af84e4c0e'"
      ]
     },
     "execution_count": 34,
     "metadata": {},
     "output_type": "execute_result"
    }
   ],
   "source": [
    "druid"
   ]
  },
  {
   "cell_type": "code",
   "execution_count": 35,
   "metadata": {},
   "outputs": [],
   "source": [
    "druid2 = h.insert({\"name\":\"Kelly\", \"age\":38}, item_type=\"person\")"
   ]
  }
 ],
 "metadata": {
  "kernelspec": {
   "display_name": "Python 3",
   "language": "python",
   "name": "python3"
  },
  "language_info": {
   "codemirror_mode": {
    "name": "ipython",
    "version": 3
   },
   "file_extension": ".py",
   "mimetype": "text/x-python",
   "name": "python",
   "nbconvert_exporter": "python",
   "pygments_lexer": "ipython3",
   "version": "3.7.5"
  }
 },
 "nbformat": 4,
 "nbformat_minor": 4
}
