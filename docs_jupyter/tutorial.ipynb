{
 "cells": [
  {
   "cell_type": "markdown",
   "metadata": {},
   "source": [
    "# Henge tutorial\n",
    "\n",
    "Henge is a Python package that builds backends for generic decomposable recursive unique identifiers (or, *DRUIDs*). It was started as building block for sequence collections (see [`seqcol`](https://github.com/refgenie/seqcol)), but can also be used for other data types that need content-derived identifiers.\n",
    "\n"
   ]
  },
  {
   "cell_type": "markdown",
   "metadata": {},
   "source": [
    "Record the version used in this tutorial:"
   ]
  },
  {
   "cell_type": "code",
   "execution_count": 1,
   "metadata": {
    "scrolled": true
   },
   "outputs": [
    {
     "data": {
      "text/plain": [
       "'0.0.3'"
      ]
     },
     "execution_count": 1,
     "metadata": {},
     "output_type": "execute_result"
    }
   ],
   "source": [
    "import henge\n",
    "henge.__version__"
   ]
  },
  {
   "cell_type": "markdown",
   "metadata": {},
   "source": [
    "## Introduction to object-derived unique identifiers\n",
    "\n",
    "You can use henge as a basic back-end for a key-value database with value-derived identifiers.  A henge is ultimately a database that stores values, allowing them to be looked up. \n",
    "\n",
    "To introduce you to the basic idea, we want to store simple strings, and make it possible to retrieve them with their md5 digests. In the simplest case, say we're interested in storing strings. We define an algorithm to obtain a unique identifier for the string; for example, we may take the md5 digest of the string. We then store the key (md5 digest) and value (string) in a database, and allow retrieving the the string given its identifier.\n",
    "\n",
    "Henge defines data types using JSON-schema. Let's define a data type called `sequence` which is just a string, or a sequence of characters:"
   ]
  },
  {
   "cell_type": "code",
   "execution_count": 2,
   "metadata": {},
   "outputs": [
    {
     "name": "stdout",
     "output_type": "stream",
     "text": [
      "description: \"Schema for a single raw sequence\"\r\n",
      "type: object\r\n",
      "henge_class: sequence\r\n",
      "properties:\r\n",
      "  sequence:\r\n",
      "    type: string\r\n",
      "    description: \"A sequence of characters\"\r\n",
      "required:\r\n",
      "  - sequence"
     ]
    }
   ],
   "source": [
    "!cat \"../tests/data/sequence.yaml\" "
   ]
  },
  {
   "cell_type": "markdown",
   "metadata": {},
   "source": [
    "We construct a henge object that is aware of this data type like this:"
   ]
  },
  {
   "cell_type": "code",
   "execution_count": 3,
   "metadata": {},
   "outputs": [
    {
     "data": {
      "text/plain": [
       "Henge object\n",
       "Item types: sequence\n",
       "Schemas: {'sequence': {'description': 'Schema for a single raw sequence', 'type': 'object', 'henge_class': 'sequence', 'properties': {'sequence': {'type': 'string', 'description': 'A sequence of characters'}}, 'required': ['sequence']}}"
      ]
     },
     "execution_count": 3,
     "metadata": {},
     "output_type": "execute_result"
    }
   ],
   "source": [
    "h = henge.Henge(database={}, schemas=[\"../tests/data/sequence.yaml\"])\n",
    "h"
   ]
  },
  {
   "cell_type": "markdown",
   "metadata": {},
   "source": [
    "Insert a sequence object which will be stored in the database:"
   ]
  },
  {
   "cell_type": "code",
   "execution_count": 4,
   "metadata": {},
   "outputs": [],
   "source": [
    "checksum = h.insert({\"sequence\":\"TCGA\"}, item_type=\"sequence\")"
   ]
  },
  {
   "cell_type": "markdown",
   "metadata": {},
   "source": [
    "And you can retrieve it with its checksum:"
   ]
  },
  {
   "cell_type": "code",
   "execution_count": 5,
   "metadata": {},
   "outputs": [
    {
     "data": {
      "text/plain": [
       "{'sequence': 'TCGA'}"
      ]
     },
     "execution_count": 5,
     "metadata": {},
     "output_type": "execute_result"
    }
   ],
   "source": [
    "h.retrieve(checksum)"
   ]
  },
  {
   "cell_type": "markdown",
   "metadata": {},
   "source": [
    "## Introduction to DRUIDs\n",
    "\n",
    "The power of henge becomes more apparent when we want to store more complicated objects. A DRUID builds on the basic value-derived identifiers by allowing the objects to be *decomposable* and *recursive*. In other words, the *value* stored in the database can have multiple elements (decomposible); and 2) each element which may, itself, be an independent value stored individually in the database (recursive).\n"
   ]
  },
  {
   "cell_type": "markdown",
   "metadata": {},
   "source": [
    "## Decomposing: storing multi-property objects\n",
    "\n",
    "To demonstrate, we'll first show an example with a data type that has more than one property. Let's say we want to make a henge that stores and retrieves objects of type *Person*. We define a JSON-schema for a *Person*, which has 2 attributes: a string `name`, and an integer `age`: \n"
   ]
  },
  {
   "cell_type": "code",
   "execution_count": 6,
   "metadata": {
    "scrolled": true
   },
   "outputs": [
    {
     "name": "stdout",
     "output_type": "stream",
     "text": [
      "description: \"Person\"\r\n",
      "type: object\r\n",
      "henge_class: person\r\n",
      "properties:\r\n",
      "  name:\r\n",
      "    type: string\r\n",
      "    description: \"String attribute\"\r\n",
      "  age:\r\n",
      "    type: integer\r\n",
      "    description: \"Integer attribute\"\r\n",
      "required:\r\n",
      "  - name\r\n",
      "  "
     ]
    }
   ],
   "source": [
    "!cat \"../tests/data/person.yaml\"                                "
   ]
  },
  {
   "cell_type": "markdown",
   "metadata": {},
   "source": [
    "Now we will create a henge either with the schema dict object, or a path to a yaml file:"
   ]
  },
  {
   "cell_type": "code",
   "execution_count": 7,
   "metadata": {},
   "outputs": [],
   "source": [
    "import henge\n",
    "person_henge = henge.Henge(database={}, schemas=[\"../tests/data/person.yaml\"])"
   ]
  },
  {
   "cell_type": "code",
   "execution_count": 8,
   "metadata": {},
   "outputs": [
    {
     "data": {
      "text/plain": [
       "['person']"
      ]
     },
     "execution_count": 8,
     "metadata": {},
     "output_type": "execute_result"
    }
   ],
   "source": [
    "person_henge.item_types"
   ]
  },
  {
   "cell_type": "markdown",
   "metadata": {},
   "source": [
    "Use `insert` to add an item to the henge, providing the object and its type. The henge will use JSON-schema to make sure the object satisfies the schema."
   ]
  },
  {
   "cell_type": "code",
   "execution_count": 9,
   "metadata": {},
   "outputs": [],
   "source": [
    "druid1 = person_henge.insert({\"name\":\"Pat\", \"age\":38}, item_type=\"person\")"
   ]
  },
  {
   "cell_type": "markdown",
   "metadata": {},
   "source": [
    "When you insert an item into the henge, it returns the unique identifier (or, the *DRUID*) for that item. Then, you can use the unique identifier to retrieve the item from the henge."
   ]
  },
  {
   "cell_type": "code",
   "execution_count": 10,
   "metadata": {},
   "outputs": [
    {
     "data": {
      "text/plain": [
       "{'name': 'Pat', 'age': '38'}"
      ]
     },
     "execution_count": 10,
     "metadata": {},
     "output_type": "execute_result"
    }
   ],
   "source": [
    "person_henge.retrieve(druid1)"
   ]
  },
  {
   "cell_type": "markdown",
   "metadata": {},
   "source": [
    "Our schema listed `name` as a required attribute. Here's what happens if we try to insert non-conforming data:"
   ]
  },
  {
   "cell_type": "code",
   "execution_count": 11,
   "metadata": {},
   "outputs": [
    {
     "name": "stderr",
     "output_type": "stream",
     "text": [
      "Not valid data\n",
      "Attempting to insert item: {'age': 38}\n",
      "Item type: person\n"
     ]
    },
    {
     "name": "stdout",
     "output_type": "stream",
     "text": [
      "'name' is a required property\n",
      "\n",
      "Failed validating 'required' in schema:\n",
      "    {'description': 'Person',\n",
      "     'henge_class': 'person',\n",
      "     'properties': {'age': {'description': 'Integer attribute',\n",
      "                            'type': 'integer'},\n",
      "                    'name': {'description': 'String attribute',\n",
      "                             'type': 'string'}},\n",
      "     'required': ['name'],\n",
      "     'type': 'object'}\n",
      "\n",
      "On instance:\n",
      "    {'age': 38}\n"
     ]
    },
    {
     "data": {
      "text/plain": [
       "False"
      ]
     },
     "execution_count": 11,
     "metadata": {},
     "output_type": "execute_result"
    }
   ],
   "source": [
    "person_henge.insert({\"first_name\":\"Pat\", \"age\":38}, item_type=\"person\")"
   ]
  },
  {
   "cell_type": "markdown",
   "metadata": {},
   "source": [
    "## Recursion: storing structured data\n",
    "\n",
    "Next, we'll show an example of a data type that contains other complex data types. Let's define a *Family* as an array of parents and an array of children:"
   ]
  },
  {
   "cell_type": "code",
   "execution_count": 12,
   "metadata": {},
   "outputs": [
    {
     "name": "stdout",
     "output_type": "stream",
     "text": [
      "description: \"Family\"\r\n",
      "type: object\r\n",
      "henge_class: family\r\n",
      "properties:\r\n",
      "  domicile:\r\n",
      "    type: object\r\n",
      "    henge_class: location\r\n",
      "    properties:\r\n",
      "      address:\r\n",
      "        type: string\r\n",
      "  parents:\r\n",
      "    type: array\r\n",
      "    henge_class: people\r\n",
      "    items:\r\n",
      "      type: object\r\n",
      "      henge_class: person\r\n",
      "      properties:\r\n",
      "        name:\r\n",
      "          type: string\r\n",
      "          description: \"String attribute\"\r\n",
      "        age:\r\n",
      "          type: integer\r\n",
      "          description: \"Integer attribute\"\r\n",
      "      required:\r\n",
      "        - name\r\n",
      "  children:\r\n",
      "    type: array\r\n",
      "    henge_class: people\r\n",
      "    recursive: true\r\n",
      "    items:\r\n",
      "      type: object\r\n",
      "      henge_class: person\r\n",
      "      properties:\r\n",
      "        name:\r\n",
      "          type: string\r\n",
      "          description: \"String attribute\"\r\n",
      "        age:\r\n",
      "          type: integer\r\n",
      "          description: \"Integer attribute\"\r\n",
      "      required:\r\n",
      "        - name\r\n",
      "required:\r\n",
      "  - parents\r\n",
      "recursive:\r\n",
      "  - parents\r\n",
      "  - children\r\n"
     ]
    }
   ],
   "source": [
    "!cat \"../tests/data/family.yaml\" "
   ]
  },
  {
   "cell_type": "markdown",
   "metadata": {},
   "source": [
    "In our family object, parents are required, which is a *People* object, which is an array with one or more *Person* objects. The *children* attribute is optional, which is also a *People* object with one or more *Person* objects. Our *Family* object also has a *domicile* attribute, which is a *Location* object that has an *address* property."
   ]
  },
  {
   "cell_type": "code",
   "execution_count": 13,
   "metadata": {
    "scrolled": true
   },
   "outputs": [],
   "source": [
    "famhenge = henge.Henge(database={}, schemas=[\"../tests/data/family.yaml\"])"
   ]
  },
  {
   "cell_type": "code",
   "execution_count": 14,
   "metadata": {
    "scrolled": true
   },
   "outputs": [
    {
     "data": {
      "text/plain": [
       "['family', 'location', 'people', 'person']"
      ]
     },
     "execution_count": 14,
     "metadata": {},
     "output_type": "execute_result"
    }
   ],
   "source": [
    "famhenge.item_types"
   ]
  },
  {
   "cell_type": "markdown",
   "metadata": {},
   "source": [
    "Now, this henge can accommodate objects that subscribe to this structure data type. Let's build a simple family object and store it in the henge:"
   ]
  },
  {
   "cell_type": "code",
   "execution_count": 37,
   "metadata": {},
   "outputs": [],
   "source": [
    "myfam = {'domicile': '',\n",
    " 'parents': [{'name': 'Pat', 'age': 38}, {'name': 'Kelly', 'age': 35}],\n",
    " 'children': [{'name': 'Oedipus', 'age': 2}]}"
   ]
  },
  {
   "cell_type": "code",
   "execution_count": 38,
   "metadata": {},
   "outputs": [
    {
     "data": {
      "text/plain": [
       "'bc43e39e7f589ecda3865b39438905af'"
      ]
     },
     "execution_count": 38,
     "metadata": {},
     "output_type": "execute_result"
    }
   ],
   "source": [
    "myfam_druid = famhenge.insert(myfam, \"family\")\n",
    "myfam_druid"
   ]
  },
  {
   "cell_type": "markdown",
   "metadata": {},
   "source": [
    "As before, we can retrieve the complete structured data using the digest:"
   ]
  },
  {
   "cell_type": "code",
   "execution_count": 39,
   "metadata": {},
   "outputs": [
    {
     "data": {
      "text/plain": [
       "{'domicile': '',\n",
       " 'parents': [{'name': 'Pat', 'age': '38'}, {'name': 'Kelly', 'age': '35'}],\n",
       " 'children': [{'name': 'Oedipus', 'age': '2'}]}"
      ]
     },
     "execution_count": 39,
     "metadata": {},
     "output_type": "execute_result"
    }
   ],
   "source": [
    "famhenge.retrieve(myfam_druid)"
   ]
  },
  {
   "cell_type": "markdown",
   "metadata": {},
   "source": [
    "One of the powerful features of Henge is that, under the hood, henge is actually storing objects as separate elements, each with the own identifiers, and you can retrieve them individually. This becomes more apparent when we use the `reclimit` argument to limit the number of recursive steps. If we allow no recursion, we'll pull out the digests for the *People* objects:"
   ]
  },
  {
   "cell_type": "code",
   "execution_count": 40,
   "metadata": {},
   "outputs": [
    {
     "data": {
      "text/plain": [
       "{'domicile': '',\n",
       " 'parents': '6a9f4378876423f7d032fc86a5eca4d1',\n",
       " 'children': '98646a8b05f9e0de892e98e256097d40'}"
      ]
     },
     "execution_count": 40,
     "metadata": {},
     "output_type": "execute_result"
    }
   ],
   "source": [
    "famhenge.retrieve(myfam_druid, reclimit=0)"
   ]
  },
  {
   "cell_type": "markdown",
   "metadata": {},
   "source": [
    "We can recurse one step further to get digests for the *Person* objects:"
   ]
  },
  {
   "cell_type": "code",
   "execution_count": 41,
   "metadata": {},
   "outputs": [
    {
     "data": {
      "text/plain": [
       "{'domicile': '',\n",
       " 'parents': ['685a5a70a3d9450e42346bc36ca4ff11',\n",
       "  '4d3433cc9446fcf5038a21b088013762'],\n",
       " 'children': ['20393736960360496a40f29877ec1634']}"
      ]
     },
     "execution_count": 41,
     "metadata": {},
     "output_type": "execute_result"
    }
   ],
   "source": [
    "famhenge.retrieve(myfam_druid, reclimit=1)"
   ]
  },
  {
   "cell_type": "markdown",
   "metadata": {},
   "source": [
    "These identifiers can be used individually to pull individual items from the database:"
   ]
  },
  {
   "cell_type": "code",
   "execution_count": 42,
   "metadata": {},
   "outputs": [
    {
     "data": {
      "text/plain": [
       "'4d3433cc9446fcf5038a21b088013762'"
      ]
     },
     "execution_count": 42,
     "metadata": {},
     "output_type": "execute_result"
    }
   ],
   "source": [
    "digest = famhenge.retrieve(myfam_druid, reclimit=1)['parents'][1]\n",
    "digest"
   ]
  },
  {
   "cell_type": "code",
   "execution_count": 43,
   "metadata": {
    "scrolled": true
   },
   "outputs": [
    {
     "data": {
      "text/plain": [
       "{'name': 'Kelly', 'age': '35'}"
      ]
     },
     "execution_count": 43,
     "metadata": {},
     "output_type": "execute_result"
    }
   ],
   "source": [
    "famhenge.retrieve(digest)"
   ]
  },
  {
   "cell_type": "markdown",
   "metadata": {},
   "source": [
    "You can also insert the sub-components (like *People* or *Person*) into the database:"
   ]
  },
  {
   "cell_type": "code",
   "execution_count": 44,
   "metadata": {
    "scrolled": true
   },
   "outputs": [],
   "source": [
    "druid1 = famhenge.insert({\"name\":\"Pat\", \"age\":38}, item_type=\"person\")\n",
    "druid2 = famhenge.insert({\"name\":\"Kelly\", \"age\":35}, item_type=\"person\")"
   ]
  },
  {
   "cell_type": "code",
   "execution_count": 47,
   "metadata": {},
   "outputs": [
    {
     "data": {
      "text/plain": [
       "{'name': 'Pat', 'age': '38'}"
      ]
     },
     "execution_count": 47,
     "metadata": {},
     "output_type": "execute_result"
    }
   ],
   "source": [
    "famhenge.retrieve(druid1)"
   ]
  },
  {
   "cell_type": "code",
   "execution_count": 48,
   "metadata": {},
   "outputs": [
    {
     "name": "stdout",
     "output_type": "stream",
     "text": [
      "20393736960360496a40f29877ec1634 Oedipus\u001e",
      "2\n",
      "20393736960360496a40f29877ec1634_item_type person\n",
      "20393736960360496a40f29877ec1634_digest_version md5\n",
      "98646a8b05f9e0de892e98e256097d40 20393736960360496a40f29877ec1634\n",
      "98646a8b05f9e0de892e98e256097d40_item_type people\n",
      "98646a8b05f9e0de892e98e256097d40_digest_version md5\n",
      "685a5a70a3d9450e42346bc36ca4ff11 Pat\u001e",
      "38\n",
      "685a5a70a3d9450e42346bc36ca4ff11_item_type person\n",
      "685a5a70a3d9450e42346bc36ca4ff11_digest_version md5\n",
      "c92d4c12cd07816d4bd25b9bea4e353f Kelly\u001e",
      "5\n",
      "c92d4c12cd07816d4bd25b9bea4e353f_item_type person\n",
      "c92d4c12cd07816d4bd25b9bea4e353f_digest_version md5\n",
      "4a93ef901177d13ad9c7edfb9c0c449f 685a5a70a3d9450e42346bc36ca4ff11\tc92d4c12cd07816d4bd25b9bea4e353f\n",
      "4a93ef901177d13ad9c7edfb9c0c449f_item_type people\n",
      "4a93ef901177d13ad9c7edfb9c0c449f_digest_version md5\n",
      "b9bf6b773bd476399dafa7a39d9aa041 \u001e",
      "4a93ef901177d13ad9c7edfb9c0c449f\u001e",
      "98646a8b05f9e0de892e98e256097d40\n",
      "b9bf6b773bd476399dafa7a39d9aa041_item_type family\n",
      "b9bf6b773bd476399dafa7a39d9aa041_digest_version md5\n",
      "4d3433cc9446fcf5038a21b088013762 Kelly\u001e",
      "35\n",
      "4d3433cc9446fcf5038a21b088013762_item_type person\n",
      "4d3433cc9446fcf5038a21b088013762_digest_version md5\n",
      "6a9f4378876423f7d032fc86a5eca4d1 685a5a70a3d9450e42346bc36ca4ff11\t4d3433cc9446fcf5038a21b088013762\n",
      "6a9f4378876423f7d032fc86a5eca4d1_item_type people\n",
      "6a9f4378876423f7d032fc86a5eca4d1_digest_version md5\n",
      "bc43e39e7f589ecda3865b39438905af \u001e",
      "6a9f4378876423f7d032fc86a5eca4d1\u001e",
      "98646a8b05f9e0de892e98e256097d40\n",
      "bc43e39e7f589ecda3865b39438905af_item_type family\n",
      "bc43e39e7f589ecda3865b39438905af_digest_version md5\n"
     ]
    }
   ],
   "source": [
    "famhenge.show()"
   ]
  }
 ],
 "metadata": {
  "kernelspec": {
   "display_name": "Python 3",
   "language": "python",
   "name": "python3"
  },
  "language_info": {
   "codemirror_mode": {
    "name": "ipython",
    "version": 3
   },
   "file_extension": ".py",
   "mimetype": "text/x-python",
   "name": "python",
   "nbconvert_exporter": "python",
   "pygments_lexer": "ipython3",
   "version": "3.7.5"
  }
 },
 "nbformat": 4,
 "nbformat_minor": 4
}
