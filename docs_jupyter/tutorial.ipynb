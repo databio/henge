{
 "cells": [
  {
   "cell_type": "markdown",
   "metadata": {},
   "source": [
    "# Henge tutorial"
   ]
  },
  {
   "cell_type": "markdown",
   "metadata": {},
   "source": [
    "## Introduction to henge\n",
    "\n",
    "A henge is a management layer that overlays a database. You can use henge with a variety of back-end types that support key-value pair storage, such as a simple python `dict` object, a redis database, MongoDB, SQLite, etc.\n",
    "\n",
    "The point of the henge management layer is to automatically mint unique, data-derived identifiers, and make it easy to retrieve the data using these identifiers. When you insert an arbitrary object into the Henge, it will return a unique digest for the object, which we refer to as a DRUID. The DRUID is a cryptographic digest/hash; it behaves like a fingerprint for the item you inserted. DRUIDs are computed deterministically from the item, so they represent globally unique identifiers. If you insert the same item repeatedly, it will produce the same DRUID -- this is even true across henges, as long as they share a data schema (explained more later). You can use DRUIDs as identifiers, and you can also use them to retrieve the original item again from the henge.\n",
    "\n",
    "To introduce you to the basic idea, let's store simple strings, and make it possible to retrieve them with their digests. You can choose the digest algorithm; we'll use `md5` for now. Henge will store the DRUID (md5 digest) and value (string) in a database, and allow retrieving the the string given its identifier."
   ]
  },
  {
   "cell_type": "markdown",
   "metadata": {},
   "source": [
    "Record the version used in this tutorial:"
   ]
  },
  {
   "cell_type": "code",
   "execution_count": 1,
   "metadata": {
    "scrolled": true
   },
   "outputs": [
    {
     "name": "stdout",
     "output_type": "stream",
     "text": [
      "Python version: 3.8.5; henge version: 0.1.0-dev\n"
     ]
    }
   ],
   "source": [
    "from platform import python_version \n",
    "import henge\n",
    "print(\"Python version: {}; henge version: {}\".format(python_version(), henge.__version__))"
   ]
  },
  {
   "cell_type": "code",
   "execution_count": 2,
   "metadata": {},
   "outputs": [],
   "source": [
    "# If you want you can turn debug text on with this command:\n",
    "# import logmuse\n",
    "# logmuse.init_logger(\"henge\", \"DEBUG\", devmode=True)"
   ]
  },
  {
   "cell_type": "markdown",
   "metadata": {},
   "source": [
    "Henge defines data types using JSON-schema. Let's define a data type called `string` which is just a string, or a sequence of characters:"
   ]
  },
  {
   "cell_type": "code",
   "execution_count": 3,
   "metadata": {},
   "outputs": [
    {
     "name": "stdout",
     "output_type": "stream",
     "text": [
      "description: \"Simple schema for a string\"\r\n",
      "type: string\r\n",
      "henge_class: mystring\r\n"
     ]
    }
   ],
   "source": [
    "!cat \"../tests/data/string.yaml\" "
   ]
  },
  {
   "cell_type": "markdown",
   "metadata": {},
   "source": [
    "Henge schemas are just JSON-schemas with one additional keyword: `henge_class`. For any item type that we want to digest as a separate entity in the henge, we need to cleare a `henge_class`. Here, we called the class of this simple string `mystring`. We construct a henge object that is aware of this data type like this:"
   ]
  },
  {
   "cell_type": "code",
   "execution_count": 4,
   "metadata": {},
   "outputs": [
    {
     "data": {
      "text/plain": [
       "Henge object. Item types: mystring"
      ]
     },
     "execution_count": 4,
     "metadata": {},
     "output_type": "execute_result"
    }
   ],
   "source": [
    "h = henge.Henge(database={}, schemas=[\"../tests/data/string.yaml\"])\n",
    "h"
   ]
  },
  {
   "cell_type": "markdown",
   "metadata": {},
   "source": [
    "The database in this case is just an empty python dict `{}`, which is useful for testing. Insert a sequence object which will be stored in the database, which in this case is just a dictionary:"
   ]
  },
  {
   "cell_type": "code",
   "execution_count": 5,
   "metadata": {},
   "outputs": [],
   "source": [
    "digest = h.insert(\"TCGA\", item_type=\"mystring\")"
   ]
  },
  {
   "cell_type": "markdown",
   "metadata": {},
   "source": [
    "Just for kicks, let's take a look at what the digest actually is:"
   ]
  },
  {
   "cell_type": "code",
   "execution_count": 6,
   "metadata": {},
   "outputs": [
    {
     "data": {
      "text/plain": [
       "'45d0ff9f1a9504cf2039f89c1ffb4c32'"
      ]
     },
     "execution_count": 6,
     "metadata": {},
     "output_type": "execute_result"
    }
   ],
   "source": [
    "digest"
   ]
  },
  {
   "cell_type": "markdown",
   "metadata": {},
   "source": [
    "That digest is a globally unique identifier for the item, derived from the item itself. You can retrieve the original item using the digest:"
   ]
  },
  {
   "cell_type": "code",
   "execution_count": 10,
   "metadata": {},
   "outputs": [
    {
     "data": {
      "text/plain": [
       "'TCGA'"
      ]
     },
     "execution_count": 10,
     "metadata": {},
     "output_type": "execute_result"
    }
   ],
   "source": [
    "h.retrieve(digest)"
   ]
  },
  {
   "cell_type": "markdown",
   "metadata": {},
   "source": [
    "Since the digest is deterministic, repeated attempts to insert the same item will yield the same result. This item is already in the database, so it will not take up additional storage:"
   ]
  },
  {
   "cell_type": "code",
   "execution_count": 13,
   "metadata": {},
   "outputs": [
    {
     "data": {
      "text/plain": [
       "'45d0ff9f1a9504cf2039f89c1ffb4c32'"
      ]
     },
     "execution_count": 13,
     "metadata": {},
     "output_type": "execute_result"
    }
   ],
   "source": [
    "h.insert(\"TCGA\", item_type=\"mystring\")"
   ]
  },
  {
   "cell_type": "markdown",
   "metadata": {},
   "source": [
    "This demonstrates how to use a henge on a basic, primitive data type like a string. All the henge layer is doing is simplifying the interface to: 1) create a unique identifier automatically; 2) insert your item into the database, keyed by the unique identifier; and 3) provide an easy lookup function to get your item back.\n",
    "\n",
    "Next, what if we have a more complicated data, like an array, or an object with named attributes? The power of henge becomes more apparent when we want to store such more complicated objects. A DRUID builds on basic value-derived identifiers by allowing the objects to be *decomposable* and *recursive*. In other words, the *value* stored in the database can have multiple elements (decomposible); and 2) each element which may, itself, be an independent value stored individually in the database (recursive). This will make more sense as we look at examples of more complicated objects next."
   ]
  },
  {
   "cell_type": "markdown",
   "metadata": {},
   "source": [
    "## Decomposing: storing arrays and multi-property objects\n",
    "\n",
    "To demonstrate, we'll first show an example with a data type that has more than one property. Let's say we want to make a henge that stores and retrieves objects of type *Person*. We define a JSON-schema for a *Person*, which has 2 attributes: a string `name`, and an integer `age`: \n"
   ]
  },
  {
   "cell_type": "code",
   "execution_count": 14,
   "metadata": {
    "scrolled": true
   },
   "outputs": [
    {
     "name": "stdout",
     "output_type": "stream",
     "text": [
      "description: \"Person\"\r\n",
      "type: object\r\n",
      "henge_class: person\r\n",
      "properties:\r\n",
      "  name:\r\n",
      "    type: string\r\n",
      "    description: \"String attribute\"\r\n",
      "  age:\r\n",
      "    type: integer\r\n",
      "    description: \"Integer attribute\"\r\n",
      "required:\r\n",
      "  - name\r\n",
      "  "
     ]
    }
   ],
   "source": [
    "!cat \"../tests/data/person.yaml\"                                "
   ]
  },
  {
   "cell_type": "markdown",
   "metadata": {},
   "source": [
    "Notice again that we have `henge_class: person` in there. We did *not* define henge classes for the individual property elements of `name` and `age`. This means that the `Person` object will be digested, but the `name` and `age` elements will not be seperately digested -- they will only exist as elements of a Person. \n",
    "\n",
    "Now we will create a henge either with the schema dict object, or a path to a yaml file:"
   ]
  },
  {
   "cell_type": "code",
   "execution_count": 15,
   "metadata": {},
   "outputs": [],
   "source": [
    "import henge\n",
    "person_henge = henge.Henge(database={}, schemas=[\"../tests/data/person.yaml\"])"
   ]
  },
  {
   "cell_type": "markdown",
   "metadata": {},
   "source": [
    "You can see which types of items your henge can process by looking at the `item_types` property:"
   ]
  },
  {
   "cell_type": "code",
   "execution_count": 16,
   "metadata": {},
   "outputs": [
    {
     "data": {
      "text/plain": [
       "['person']"
      ]
     },
     "execution_count": 16,
     "metadata": {},
     "output_type": "execute_result"
    }
   ],
   "source": [
    "person_henge.item_types"
   ]
  },
  {
   "cell_type": "markdown",
   "metadata": {},
   "source": [
    "Use `insert` to add an item to the henge, providing the object and its type. The henge will use JSON-schema to make sure the object satisfies the schema."
   ]
  },
  {
   "cell_type": "code",
   "execution_count": 17,
   "metadata": {},
   "outputs": [
    {
     "name": "stdout",
     "output_type": "stream",
     "text": [
      "b72919f8796567779510252008cb4d1f\n"
     ]
    }
   ],
   "source": [
    "druid1 = person_henge.insert({\"name\":\"Pat\", \"age\":38}, item_type=\"person\")\n",
    "print(druid1)"
   ]
  },
  {
   "cell_type": "markdown",
   "metadata": {},
   "source": [
    "When you insert an item into the henge, it returns the unique identifier (or, the *DRUID*) for that item. Then, you can use the unique identifier to retrieve the item from the henge."
   ]
  },
  {
   "cell_type": "code",
   "execution_count": 18,
   "metadata": {},
   "outputs": [
    {
     "data": {
      "text/plain": [
       "{'age': '38', 'name': 'Pat'}"
      ]
     },
     "execution_count": 18,
     "metadata": {},
     "output_type": "execute_result"
    }
   ],
   "source": [
    "person_henge.retrieve(druid1)"
   ]
  },
  {
   "cell_type": "code",
   "execution_count": null,
   "metadata": {},
   "outputs": [],
   "source": []
  },
  {
   "cell_type": "markdown",
   "metadata": {},
   "source": [
    "Our schema listed `name` as a required attribute. Here's what happens if we try to insert non-conforming data:"
   ]
  },
  {
   "cell_type": "code",
   "execution_count": 19,
   "metadata": {},
   "outputs": [
    {
     "name": "stderr",
     "output_type": "stream",
     "text": [
      "Not valid data. Item type: person. Attempting to insert item: {'age': 38}\n"
     ]
    },
    {
     "name": "stdout",
     "output_type": "stream",
     "text": [
      "'name' is a required property\n",
      "\n",
      "Failed validating 'required' in schema:\n",
      "    {'description': 'Person',\n",
      "     'henge_class': 'person',\n",
      "     'properties': {'age': {'description': 'Integer attribute',\n",
      "                            'type': 'integer'},\n",
      "                    'name': {'description': 'String attribute',\n",
      "                             'type': 'string'}},\n",
      "     'recursive': [],\n",
      "     'required': ['name'],\n",
      "     'type': 'object'}\n",
      "\n",
      "On instance:\n",
      "    {'age': 38}\n"
     ]
    },
    {
     "ename": "ValidationError",
     "evalue": "'name' is a required property\n\nFailed validating 'required' in schema:\n    {'description': 'Person',\n     'henge_class': 'person',\n     'properties': {'age': {'description': 'Integer attribute',\n                            'type': 'integer'},\n                    'name': {'description': 'String attribute',\n                             'type': 'string'}},\n     'recursive': [],\n     'required': ['name'],\n     'type': 'object'}\n\nOn instance:\n    {'age': 38}",
     "output_type": "error",
     "traceback": [
      "\u001b[0;31m---------------------------------------------------------------------------\u001b[0m",
      "\u001b[0;31mValidationError\u001b[0m                           Traceback (most recent call last)",
      "\u001b[0;32m<ipython-input-19-516dc274d047>\u001b[0m in \u001b[0;36m<module>\u001b[0;34m\u001b[0m\n\u001b[0;32m----> 1\u001b[0;31m \u001b[0mperson_henge\u001b[0m\u001b[0;34m.\u001b[0m\u001b[0minsert\u001b[0m\u001b[0;34m(\u001b[0m\u001b[0;34m{\u001b[0m\u001b[0;34m\"first_name\"\u001b[0m\u001b[0;34m:\u001b[0m\u001b[0;34m\"Pat\"\u001b[0m\u001b[0;34m,\u001b[0m \u001b[0;34m\"age\"\u001b[0m\u001b[0;34m:\u001b[0m\u001b[0;36m38\u001b[0m\u001b[0;34m}\u001b[0m\u001b[0;34m,\u001b[0m \u001b[0mitem_type\u001b[0m\u001b[0;34m=\u001b[0m\u001b[0;34m\"person\"\u001b[0m\u001b[0;34m)\u001b[0m\u001b[0;34m\u001b[0m\u001b[0;34m\u001b[0m\u001b[0m\n\u001b[0m",
      "\u001b[0;32m~/.local/lib/python3.8/site-packages/henge/henge.py\u001b[0m in \u001b[0;36minsert\u001b[0;34m(self, item, item_type, reclimit)\u001b[0m\n\u001b[1;32m    301\u001b[0m \u001b[0;34m\u001b[0m\u001b[0m\n\u001b[1;32m    302\u001b[0m \u001b[0;34m\u001b[0m\u001b[0m\n\u001b[0;32m--> 303\u001b[0;31m         \u001b[0;32mreturn\u001b[0m \u001b[0mself\u001b[0m\u001b[0;34m.\u001b[0m\u001b[0m_insert_flat\u001b[0m\u001b[0;34m(\u001b[0m\u001b[0mflat_item\u001b[0m\u001b[0;34m,\u001b[0m \u001b[0mitem_type\u001b[0m\u001b[0;34m)\u001b[0m\u001b[0;34m\u001b[0m\u001b[0;34m\u001b[0m\u001b[0m\n\u001b[0m\u001b[1;32m    304\u001b[0m \u001b[0;34m\u001b[0m\u001b[0m\n\u001b[1;32m    305\u001b[0m \u001b[0;34m\u001b[0m\u001b[0m\n",
      "\u001b[0;32m~/.local/lib/python3.8/site-packages/henge/henge.py\u001b[0m in \u001b[0;36m_insert_flat\u001b[0;34m(self, item, item_type, item_name)\u001b[0m\n\u001b[1;32m    387\u001b[0m                 \u001b[0;32mreturn\u001b[0m \u001b[0mitem\u001b[0m\u001b[0;34m\u001b[0m\u001b[0;34m\u001b[0m\u001b[0m\n\u001b[1;32m    388\u001b[0m \u001b[0;34m\u001b[0m\u001b[0m\n\u001b[0;32m--> 389\u001b[0;31m             \u001b[0;32mraise\u001b[0m \u001b[0me\u001b[0m\u001b[0;34m\u001b[0m\u001b[0;34m\u001b[0m\u001b[0m\n\u001b[0m\u001b[1;32m    390\u001b[0m             \u001b[0;32mreturn\u001b[0m \u001b[0;32mNone\u001b[0m\u001b[0;34m\u001b[0m\u001b[0;34m\u001b[0m\u001b[0m\n\u001b[1;32m    391\u001b[0m \u001b[0;34m\u001b[0m\u001b[0m\n",
      "\u001b[0;32m~/.local/lib/python3.8/site-packages/henge/henge.py\u001b[0m in \u001b[0;36m_insert_flat\u001b[0;34m(self, item, item_type, item_name)\u001b[0m\n\u001b[1;32m    365\u001b[0m         \u001b[0;31m# Add defaults here ?\u001b[0m\u001b[0;34m\u001b[0m\u001b[0;34m\u001b[0m\u001b[0;34m\u001b[0m\u001b[0m\n\u001b[1;32m    366\u001b[0m         \u001b[0;32mtry\u001b[0m\u001b[0;34m:\u001b[0m\u001b[0;34m\u001b[0m\u001b[0;34m\u001b[0m\u001b[0m\n\u001b[0;32m--> 367\u001b[0;31m             \u001b[0mjsonschema\u001b[0m\u001b[0;34m.\u001b[0m\u001b[0mvalidate\u001b[0m\u001b[0;34m(\u001b[0m\u001b[0mitem\u001b[0m\u001b[0;34m,\u001b[0m \u001b[0mvalid_schema\u001b[0m\u001b[0;34m)\u001b[0m\u001b[0;34m\u001b[0m\u001b[0;34m\u001b[0m\u001b[0m\n\u001b[0m\u001b[1;32m    368\u001b[0m         \u001b[0;32mexcept\u001b[0m \u001b[0mjsonschema\u001b[0m\u001b[0;34m.\u001b[0m\u001b[0mValidationError\u001b[0m \u001b[0;32mas\u001b[0m \u001b[0me\u001b[0m\u001b[0;34m:\u001b[0m\u001b[0;34m\u001b[0m\u001b[0;34m\u001b[0m\u001b[0m\n\u001b[1;32m    369\u001b[0m             _LOGGER.error(\"Not valid data. Item type: {}. Attempting to insert item: {}\".\n",
      "\u001b[0;32m~/.local/lib/python3.8/site-packages/jsonschema/validators.py\u001b[0m in \u001b[0;36mvalidate\u001b[0;34m(instance, schema, cls, *args, **kwargs)\u001b[0m\n\u001b[1;32m    932\u001b[0m     \u001b[0merror\u001b[0m \u001b[0;34m=\u001b[0m \u001b[0mexceptions\u001b[0m\u001b[0;34m.\u001b[0m\u001b[0mbest_match\u001b[0m\u001b[0;34m(\u001b[0m\u001b[0mvalidator\u001b[0m\u001b[0;34m.\u001b[0m\u001b[0miter_errors\u001b[0m\u001b[0;34m(\u001b[0m\u001b[0minstance\u001b[0m\u001b[0;34m)\u001b[0m\u001b[0;34m)\u001b[0m\u001b[0;34m\u001b[0m\u001b[0;34m\u001b[0m\u001b[0m\n\u001b[1;32m    933\u001b[0m     \u001b[0;32mif\u001b[0m \u001b[0merror\u001b[0m \u001b[0;32mis\u001b[0m \u001b[0;32mnot\u001b[0m \u001b[0;32mNone\u001b[0m\u001b[0;34m:\u001b[0m\u001b[0;34m\u001b[0m\u001b[0;34m\u001b[0m\u001b[0m\n\u001b[0;32m--> 934\u001b[0;31m         \u001b[0;32mraise\u001b[0m \u001b[0merror\u001b[0m\u001b[0;34m\u001b[0m\u001b[0;34m\u001b[0m\u001b[0m\n\u001b[0m\u001b[1;32m    935\u001b[0m \u001b[0;34m\u001b[0m\u001b[0m\n\u001b[1;32m    936\u001b[0m \u001b[0;34m\u001b[0m\u001b[0m\n",
      "\u001b[0;31mValidationError\u001b[0m: 'name' is a required property\n\nFailed validating 'required' in schema:\n    {'description': 'Person',\n     'henge_class': 'person',\n     'properties': {'age': {'description': 'Integer attribute',\n                            'type': 'integer'},\n                    'name': {'description': 'String attribute',\n                             'type': 'string'}},\n     'recursive': [],\n     'required': ['name'],\n     'type': 'object'}\n\nOn instance:\n    {'age': 38}"
     ]
    }
   ],
   "source": [
    "person_henge.insert({\"first_name\":\"Pat\", \"age\":38}, item_type=\"person\")"
   ]
  },
  {
   "cell_type": "code",
   "execution_count": 20,
   "metadata": {},
   "outputs": [],
   "source": [
    "pat = person_henge.insert({\"name\":\"Pat\"}, item_type=\"person\")"
   ]
  },
  {
   "cell_type": "code",
   "execution_count": 21,
   "metadata": {},
   "outputs": [
    {
     "data": {
      "text/plain": [
       "{'name': 'Pat'}"
      ]
     },
     "execution_count": 21,
     "metadata": {},
     "output_type": "execute_result"
    }
   ],
   "source": [
    "person_henge.retrieve(pat)"
   ]
  },
  {
   "cell_type": "code",
   "execution_count": null,
   "metadata": {},
   "outputs": [],
   "source": []
  },
  {
   "cell_type": "code",
   "execution_count": 22,
   "metadata": {},
   "outputs": [
    {
     "data": {
      "text/plain": [
       "{'b72919f8796567779510252008cb4d1f': 'age,38,name,Pat',\n",
       " 'b72919f8796567779510252008cb4d1f_item_type': 'person',\n",
       " 'b72919f8796567779510252008cb4d1f_digest_version': 'md5',\n",
       " '9eb9147f0bf1b5cd591201c8e5a28f66': 'name,Pat',\n",
       " '9eb9147f0bf1b5cd591201c8e5a28f66_item_type': 'person',\n",
       " '9eb9147f0bf1b5cd591201c8e5a28f66_digest_version': 'md5'}"
      ]
     },
     "execution_count": 22,
     "metadata": {},
     "output_type": "execute_result"
    }
   ],
   "source": [
    "person_henge.database"
   ]
  },
  {
   "cell_type": "markdown",
   "metadata": {},
   "source": [
    "Next, let's consider an array. Here's a quick example with array data. Once again, we must define a JSON-schema describing the data type that our henge will understand."
   ]
  },
  {
   "cell_type": "code",
   "execution_count": 23,
   "metadata": {},
   "outputs": [
    {
     "name": "stdout",
     "output_type": "stream",
     "text": [
      "description: \"An array of items.\"\r\n",
      "type: array\r\n",
      "henge_class: array\r\n",
      "items:\r\n",
      "  type: string\r\n",
      "\r\n"
     ]
    }
   ],
   "source": [
    "!cat \"../tests/data/simple_array.yaml\""
   ]
  },
  {
   "cell_type": "code",
   "execution_count": 24,
   "metadata": {},
   "outputs": [],
   "source": [
    "arrhenge = henge.Henge(database={}, schemas=[\"../tests/data/simple_array.yaml\"])"
   ]
  },
  {
   "cell_type": "code",
   "execution_count": 25,
   "metadata": {},
   "outputs": [
    {
     "name": "stdout",
     "output_type": "stream",
     "text": [
      "a44c56c8177e32d3613988f4dba7962e\n"
     ]
    }
   ],
   "source": [
    "digest = arrhenge.insert([\"a\", \"b\", \"c\"], item_type=\"array\")\n",
    "print(digest)"
   ]
  },
  {
   "cell_type": "code",
   "execution_count": 26,
   "metadata": {},
   "outputs": [
    {
     "data": {
      "text/plain": [
       "['a', 'b', 'c']"
      ]
     },
     "execution_count": 26,
     "metadata": {},
     "output_type": "execute_result"
    }
   ],
   "source": [
    "arrhenge.retrieve(digest)"
   ]
  },
  {
   "cell_type": "code",
   "execution_count": 27,
   "metadata": {},
   "outputs": [
    {
     "data": {
      "text/plain": [
       "{'a44c56c8177e32d3613988f4dba7962e': 'a,b,c',\n",
       " 'a44c56c8177e32d3613988f4dba7962e_item_type': 'array',\n",
       " 'a44c56c8177e32d3613988f4dba7962e_digest_version': 'md5'}"
      ]
     },
     "execution_count": 27,
     "metadata": {},
     "output_type": "execute_result"
    }
   ],
   "source": [
    "arrhenge.database"
   ]
  },
  {
   "cell_type": "markdown",
   "metadata": {},
   "source": [
    "We've just seen how the DRUID concept works for structured data with multiple attributes. One nice thing about this is that henge is handling all the details of the digest algorithm, which can start to get complicated once your data is more than just a single element. For example -- How do you integrate property names? How do you delimit items?  With henge, you're just using a standardized algorithm that is independent of data type.\n",
    "\n",
    "If I were to create another henge on a different computer using the same JSON-schema, then I'm guarenteed that the same data will produce the same digest, making it possible to share these digests across servers.\n",
    "\n",
    "Next, we'll expand into the area where henge becomes very powerful: what if the data are hierarchical, with nested objects?"
   ]
  },
  {
   "cell_type": "markdown",
   "metadata": {},
   "source": [
    "## Recursion: storing structured data\n",
    "\n",
    "Next, we'll show an example of a data type that contains other complex data types. Let's define a *Family* as an array of parents and an array of children:"
   ]
  },
  {
   "cell_type": "code",
   "execution_count": 28,
   "metadata": {},
   "outputs": [
    {
     "name": "stdout",
     "output_type": "stream",
     "text": [
      "description: \"Family\"\r\n",
      "type: object\r\n",
      "henge_class: family\r\n",
      "properties:\r\n",
      "  domicile:\r\n",
      "    type: object\r\n",
      "    henge_class: location\r\n",
      "    properties:\r\n",
      "      address:\r\n",
      "        type: string\r\n",
      "  parents:\r\n",
      "    type: array\r\n",
      "    henge_class: people\r\n",
      "    items:\r\n",
      "      type: object\r\n",
      "      henge_class: person\r\n",
      "      properties:\r\n",
      "        name:\r\n",
      "          type: string\r\n",
      "          description: \"String attribute\"\r\n",
      "        age:\r\n",
      "          type: integer\r\n",
      "          description: \"Integer attribute\"\r\n",
      "      required:\r\n",
      "        - name\r\n",
      "  children:\r\n",
      "    type: array\r\n",
      "    henge_class: people\r\n",
      "    items:\r\n",
      "      type: object\r\n",
      "      henge_class: person\r\n",
      "      properties:\r\n",
      "        name:\r\n",
      "          type: string\r\n",
      "          description: \"String attribute\"\r\n",
      "        age:\r\n",
      "          type: integer\r\n",
      "          description: \"Integer attribute\"\r\n",
      "      required:\r\n",
      "        - name\r\n",
      "required:\r\n",
      "  - parents"
     ]
    }
   ],
   "source": [
    "!cat \"../tests/data/family.yaml\" "
   ]
  },
  {
   "cell_type": "markdown",
   "metadata": {},
   "source": [
    "In our family object, parents are required, which is a *People* object, which is an array with one or more *Person* objects. The *children* attribute is optional, which is also a *People* object with one or more *Person* objects. Our *Family* object also has a *domicile* attribute, which is a *Location* object that has an *address* property.\n",
    "\n",
    "Notice where we've put `henge_class` keywords in this object. Not only the top-level `family` object has a `henge_class`, but also several other properties, including `people`, `person`, and `domicile`, which are both arrays and objects. We'll see below how this type of schema will automatically create first-class database entries, with their own unique identifiers, for each of these nested data types. Therefore, you can not only retrieve `family` objects using DRUIDS, but you can also retrieve `people`, `person`, or `domicile` objects with their own DRUIDs as well. Check it out:"
   ]
  },
  {
   "cell_type": "code",
   "execution_count": 29,
   "metadata": {
    "scrolled": true
   },
   "outputs": [],
   "source": [
    "famhenge = henge.Henge(database={}, schemas=[\"../tests/data/family.yaml\"])"
   ]
  },
  {
   "cell_type": "code",
   "execution_count": 30,
   "metadata": {
    "scrolled": true
   },
   "outputs": [
    {
     "data": {
      "text/plain": [
       "['family', 'location', 'people', 'person']"
      ]
     },
     "execution_count": 30,
     "metadata": {},
     "output_type": "execute_result"
    }
   ],
   "source": [
    "famhenge.item_types"
   ]
  },
  {
   "cell_type": "markdown",
   "metadata": {},
   "source": [
    "Now, this henge can accommodate objects that subscribe to this structure data type. Let's build a simple family object and store it in the henge:"
   ]
  },
  {
   "cell_type": "code",
   "execution_count": 31,
   "metadata": {},
   "outputs": [],
   "source": [
    "myfam = {'domicile': '',\n",
    " 'parents': [{'name': 'Pat', 'age': 38}, {'name': 'Kelly', 'age': 35}],\n",
    " 'children': [{'name': 'Oedipus', 'age': 2}]}"
   ]
  },
  {
   "cell_type": "code",
   "execution_count": 32,
   "metadata": {},
   "outputs": [
    {
     "data": {
      "text/plain": [
       "'c1b783f9ad69ff52f558284fe046d781'"
      ]
     },
     "execution_count": 32,
     "metadata": {},
     "output_type": "execute_result"
    }
   ],
   "source": [
    "myfam_druid = famhenge.insert(myfam, \"family\")\n",
    "myfam_druid"
   ]
  },
  {
   "cell_type": "markdown",
   "metadata": {},
   "source": [
    "As before, we can retrieve the complete structured data using the digest:"
   ]
  },
  {
   "cell_type": "code",
   "execution_count": 33,
   "metadata": {},
   "outputs": [
    {
     "data": {
      "text/plain": [
       "{'children': [{'age': '2', 'name': 'Oedipus'}],\n",
       " 'domicile': {},\n",
       " 'parents': [{'age': '38', 'name': 'Pat'}, {'age': '35', 'name': 'Kelly'}]}"
      ]
     },
     "execution_count": 33,
     "metadata": {},
     "output_type": "execute_result"
    }
   ],
   "source": [
    "famhenge.retrieve(myfam_druid)"
   ]
  },
  {
   "cell_type": "markdown",
   "metadata": {},
   "source": [
    "Already we see that this is something useful: as before, henge is handling the algorithmic details to create your unique identifier, and it even works with these more complicated data types! You will give you the same DRUID wherever you have this particular family, for any henge that uses the same schema.\n",
    "\n",
    "And it gets better: one of the powerful features of Henge is that, under the hood, henge is actually storing objects as separate elements, each with its own identifiers, and you can retrieve them individually. This becomes more apparent when we use the `reclimit` argument to limit the number of recursive steps when we retrieve data. If we allow no recursion, we'll pull out the digests for the *People* objects:"
   ]
  },
  {
   "cell_type": "code",
   "execution_count": 34,
   "metadata": {},
   "outputs": [
    {
     "data": {
      "text/plain": [
       "{'children': '3692faf65ba433320207fe4cb3659c4c',\n",
       " 'domicile': 'd41d8cd98f00b204e9800998ecf8427e',\n",
       " 'parents': 'af8b184833fd3f6e59108cf2435df17e'}"
      ]
     },
     "execution_count": 34,
     "metadata": {},
     "output_type": "execute_result"
    }
   ],
   "source": [
    "famhenge.retrieve(myfam_druid, reclimit=0)"
   ]
  },
  {
   "cell_type": "markdown",
   "metadata": {},
   "source": [
    "Notice here that each of these elements has its own digest. That means we could actually retrieve just a *part* of our object using the digest from that part. For example, here's a retrieval of just the parents of this family object: "
   ]
  },
  {
   "cell_type": "code",
   "execution_count": 35,
   "metadata": {},
   "outputs": [
    {
     "name": "stdout",
     "output_type": "stream",
     "text": [
      "af8b184833fd3f6e59108cf2435df17e\n"
     ]
    },
    {
     "data": {
      "text/plain": [
       "[{'age': '38', 'name': 'Pat'}, {'age': '35', 'name': 'Kelly'}]"
      ]
     },
     "execution_count": 35,
     "metadata": {},
     "output_type": "execute_result"
    }
   ],
   "source": [
    "parent_digest = famhenge.retrieve(myfam_druid, reclimit=0)['parents']\n",
    "print(parent_digest)\n",
    "famhenge.retrieve(parent_digest)"
   ]
  },
  {
   "cell_type": "markdown",
   "metadata": {},
   "source": [
    "If there were another family with the same set of parents, it would share the data (it would not be duplicated). Back to the `reclimit` parameter, we can recurse one step further to get digests for the *Person* objects:"
   ]
  },
  {
   "cell_type": "code",
   "execution_count": 36,
   "metadata": {},
   "outputs": [
    {
     "data": {
      "text/plain": [
       "{'children': ['45c416044ca980e4bcb1d8184cfcfe47'],\n",
       " 'domicile': {},\n",
       " 'parents': ['b72919f8796567779510252008cb4d1f',\n",
       "  '603c37a8fb8c520f1f76458ebc345eb2']}"
      ]
     },
     "execution_count": 36,
     "metadata": {},
     "output_type": "execute_result"
    }
   ],
   "source": [
    "famhenge.retrieve(myfam_druid, reclimit=1)"
   ]
  },
  {
   "cell_type": "markdown",
   "metadata": {},
   "source": [
    "These identifiers can be used individually to pull individual items from the database:"
   ]
  },
  {
   "cell_type": "code",
   "execution_count": 37,
   "metadata": {},
   "outputs": [
    {
     "name": "stdout",
     "output_type": "stream",
     "text": [
      "603c37a8fb8c520f1f76458ebc345eb2\n"
     ]
    },
    {
     "data": {
      "text/plain": [
       "{'age': '35', 'name': 'Kelly'}"
      ]
     },
     "execution_count": 37,
     "metadata": {},
     "output_type": "execute_result"
    }
   ],
   "source": [
    "digest = famhenge.retrieve(myfam_druid, reclimit=1)['parents'][1]\n",
    "print(digest)\n",
    "famhenge.retrieve(digest)"
   ]
  },
  {
   "cell_type": "markdown",
   "metadata": {},
   "source": [
    "You can also insert the sub-components (like *People* or *Person*) directly into the database:"
   ]
  },
  {
   "cell_type": "code",
   "execution_count": 38,
   "metadata": {
    "scrolled": true
   },
   "outputs": [],
   "source": [
    "druid1 = famhenge.insert({\"name\":\"Pat\", \"age\":38}, item_type=\"person\")\n",
    "druid2 = famhenge.insert({\"name\":\"Kelly\", \"age\":35}, item_type=\"person\")"
   ]
  },
  {
   "cell_type": "code",
   "execution_count": 39,
   "metadata": {},
   "outputs": [
    {
     "data": {
      "text/plain": [
       "{'age': '38', 'name': 'Pat'}"
      ]
     },
     "execution_count": 39,
     "metadata": {},
     "output_type": "execute_result"
    }
   ],
   "source": [
    "famhenge.retrieve(druid1)"
   ]
  },
  {
   "cell_type": "markdown",
   "metadata": {},
   "source": [
    "Notice here that we re-inserted an object that was already in the database; this will not duplicate anything in the database, and the same identifier is returned here as the one used when this Person was part of the Family object."
   ]
  },
  {
   "cell_type": "code",
   "execution_count": 40,
   "metadata": {},
   "outputs": [
    {
     "name": "stdout",
     "output_type": "stream",
     "text": [
      "603c37a8fb8c520f1f76458ebc345eb2\n"
     ]
    },
    {
     "data": {
      "text/plain": [
       "True"
      ]
     },
     "execution_count": 40,
     "metadata": {},
     "output_type": "execute_result"
    }
   ],
   "source": [
    "print(druid2)\n",
    "druid2 == digest\n"
   ]
  },
  {
   "cell_type": "markdown",
   "metadata": {},
   "source": [
    "# Advanced example\n",
    "\n",
    "Now, we'll modify our family to introduce 2 other features: "
   ]
  },
  {
   "cell_type": "code",
   "execution_count": 41,
   "metadata": {
    "scrolled": true
   },
   "outputs": [
    {
     "name": "stdout",
     "output_type": "stream",
     "text": [
      "description: \"Family\"\r\n",
      "type: object\r\n",
      "henge_class: family\r\n",
      "properties:\r\n",
      "  name:\r\n",
      "    type: string\r\n",
      "    description: \"Name of the family.\"\r\n",
      "  coordinates:\r\n",
      "    type: string\r\n",
      "    henge_class: \"recprim\"\r\n",
      "    description: \"A recursive primitive\"\r\n",
      "  pets:\r\n",
      "    type: array\r\n",
      "    henge_class: array\r\n",
      "    items:\r\n",
      "      type: string\r\n",
      "  domicile:\r\n",
      "    type: object\r\n",
      "    henge_class: location\r\n",
      "    properties:\r\n",
      "      address:\r\n",
      "        type: string\r\n",
      "      state:\r\n",
      "        type: string\r\n",
      "      city:\r\n",
      "        type: string\r\n",
      "  parents:\r\n",
      "    type: array\r\n",
      "    henge_class: people\r\n",
      "    items:\r\n",
      "      type: object\r\n",
      "      henge_class: person\r\n",
      "      properties:\r\n",
      "        name:\r\n",
      "          type: string\r\n",
      "          description: \"String attribute\"\r\n",
      "        age:\r\n",
      "          type: integer\r\n",
      "          description: \"Integer attribute\"\r\n",
      "      required:\r\n",
      "        - name\r\n",
      "  children:\r\n",
      "    type: array\r\n",
      "    henge_class: people\r\n",
      "    items:\r\n",
      "      type: object\r\n",
      "      henge_class: person\r\n",
      "      properties:\r\n",
      "        name:\r\n",
      "          type: string\r\n",
      "          description: \"String attribute\"\r\n",
      "        age:\r\n",
      "          type: integer\r\n",
      "          description: \"Integer attribute\"\r\n",
      "      required:\r\n",
      "        - name\r\n",
      "required:\r\n",
      "  - parents"
     ]
    }
   ],
   "source": [
    "!cat \"../tests/data/family_with_pets.yaml\" "
   ]
  },
  {
   "cell_type": "markdown",
   "metadata": {},
   "source": [
    "What's different here? First, we added an object property called `pets` that is in array. This will demonstrate that henge handles nesting of arrays and properties.\n",
    "\n",
    "Second, we added object properties that are simple primitive `string`, either with or without `henge_class` defined: `name` is a new property without a `henge_class`, which means this will *not* be stored as a first-class object in the database with it's own identifier. The `coordinates` property, like `name` is just a simple `string` property, but the difference is that it *is* listed with a `henge_class`. Therefore, it will get a unique identifier as it's own object type in the henge. We'll see below how this shows up in our object types."
   ]
  },
  {
   "cell_type": "code",
   "execution_count": 42,
   "metadata": {
    "scrolled": true
   },
   "outputs": [],
   "source": [
    "import henge \n",
    "import logmuse \n",
    "pethenge = henge.Henge(database={}, schemas=[\"../tests/data/family_with_pets.yaml\"])\n",
    "\n",
    "myfam = {'name': \"Jones\",\n",
    "         'domicile': { 'state': \"VA\", 'address':\"123 Sesame St\", 'city': \"Charlottesville\"},\n",
    "         'pets': [\"Sparky\", \"Pluto\", \"Max\"],\n",
    "         'coordinates': '30W300x-40E400x',\n",
    "         'parents': [{'name': 'Pat', 'age': 38}, {'name': 'Kelly', 'age': 35}],\n",
    "         'children': [{'name': 'Oedipus', 'age': 2}] }"
   ]
  },
  {
   "cell_type": "markdown",
   "metadata": {},
   "source": [
    "Even for this complicted object with nested objects and arrays, the interface works in exactly the same way. As long as your data validates against your provided schema, just insert your object to get a globally-useful DRUID:"
   ]
  },
  {
   "cell_type": "code",
   "execution_count": 43,
   "metadata": {
    "scrolled": true
   },
   "outputs": [
    {
     "name": "stdout",
     "output_type": "stream",
     "text": [
      "e1385146f33d12175b1d1aca483955f4\n"
     ]
    }
   ],
   "source": [
    "digest = pethenge.insert(myfam, item_type=\"family\")\n",
    "print(digest)"
   ]
  },
  {
   "cell_type": "markdown",
   "metadata": {},
   "source": [
    "And, as expected, retrieve the object in its original structure from the DRUID:"
   ]
  },
  {
   "cell_type": "code",
   "execution_count": 44,
   "metadata": {},
   "outputs": [
    {
     "data": {
      "text/plain": [
       "{'children': [{'age': '2', 'name': 'Oedipus'}],\n",
       " 'coordinates': '30W300x-40E400x',\n",
       " 'domicile': {'address': '123 Sesame St',\n",
       "  'city': 'Charlottesville',\n",
       "  'state': 'VA'},\n",
       " 'name': 'Jones',\n",
       " 'parents': [{'age': '38', 'name': 'Pat'}, {'age': '35', 'name': 'Kelly'}],\n",
       " 'pets': ['Sparky', 'Pluto', 'Max']}"
      ]
     },
     "execution_count": 44,
     "metadata": {},
     "output_type": "execute_result"
    }
   ],
   "source": [
    "pethenge.retrieve(digest)"
   ]
  },
  {
   "cell_type": "markdown",
   "metadata": {},
   "source": [
    "Now, let's explore how the different sub-object types behave by looking at what happens when we recurse to different levels:"
   ]
  },
  {
   "cell_type": "code",
   "execution_count": 45,
   "metadata": {},
   "outputs": [
    {
     "data": {
      "text/plain": [
       "{'children': '3692faf65ba433320207fe4cb3659c4c',\n",
       " 'coordinates': '1a74f8f147bb18aff8ab572184acc191',\n",
       " 'domicile': 'e0f5f7fe2b319df11d1148e6505e8c7a',\n",
       " 'name': 'Jones',\n",
       " 'parents': 'af8b184833fd3f6e59108cf2435df17e',\n",
       " 'pets': '9d9cdda81935946a4b3bfa596fcdb7ac'}"
      ]
     },
     "execution_count": 45,
     "metadata": {},
     "output_type": "execute_result"
    }
   ],
   "source": [
    "pethenge.retrieve(digest, reclimit=0)"
   ]
  },
  {
   "cell_type": "markdown",
   "metadata": {},
   "source": [
    "Notice here the difference between `name` and `coordinates` -- the `name` did not have a `henge_class`, so it's going to be stored in the database directly under the parent `family` digest. There's no separate digest to retrieve it as it's own entity. In contrast, `coordinates` got its own digest and can therefore be retrieved individually, re-used across data, etc:"
   ]
  },
  {
   "cell_type": "code",
   "execution_count": 46,
   "metadata": {},
   "outputs": [
    {
     "data": {
      "text/plain": [
       "'30W300x-40E400x'"
      ]
     },
     "execution_count": 46,
     "metadata": {},
     "output_type": "execute_result"
    }
   ],
   "source": [
    "coord_digest = pethenge.retrieve(digest, reclimit=0)['coordinates']\n",
    "pethenge.retrieve(coord_digest)"
   ]
  },
  {
   "cell_type": "markdown",
   "metadata": {},
   "source": [
    "You can see how the other elements behave with multiple layers of recursion by adjusting `reclimit`:"
   ]
  },
  {
   "cell_type": "code",
   "execution_count": 47,
   "metadata": {
    "scrolled": true
   },
   "outputs": [
    {
     "data": {
      "text/plain": [
       "{'children': ['45c416044ca980e4bcb1d8184cfcfe47'],\n",
       " 'coordinates': '30W300x-40E400x',\n",
       " 'domicile': {'address': '123 Sesame St',\n",
       "  'city': 'Charlottesville',\n",
       "  'state': 'VA'},\n",
       " 'name': 'Jones',\n",
       " 'parents': ['b72919f8796567779510252008cb4d1f',\n",
       "  '603c37a8fb8c520f1f76458ebc345eb2'],\n",
       " 'pets': ['Sparky', 'Pluto', 'Max']}"
      ]
     },
     "execution_count": 47,
     "metadata": {},
     "output_type": "execute_result"
    }
   ],
   "source": [
    "pethenge.retrieve(digest, reclimit=1)"
   ]
  },
  {
   "cell_type": "code",
   "execution_count": 48,
   "metadata": {},
   "outputs": [
    {
     "data": {
      "text/plain": [
       "{'children': [{'age': '2', 'name': 'Oedipus'}],\n",
       " 'coordinates': '30W300x-40E400x',\n",
       " 'domicile': {'address': '123 Sesame St',\n",
       "  'city': 'Charlottesville',\n",
       "  'state': 'VA'},\n",
       " 'name': 'Jones',\n",
       " 'parents': [{'age': '38', 'name': 'Pat'}, {'age': '35', 'name': 'Kelly'}],\n",
       " 'pets': ['Sparky', 'Pluto', 'Max']}"
      ]
     },
     "execution_count": 48,
     "metadata": {},
     "output_type": "execute_result"
    }
   ],
   "source": [
    "pethenge.retrieve(digest, reclimit=2)"
   ]
  },
  {
   "cell_type": "code",
   "execution_count": 49,
   "metadata": {
    "scrolled": false
   },
   "outputs": [
    {
     "data": {
      "text/plain": [
       "{'children': [{'age': '2', 'name': 'Oedipus'}],\n",
       " 'coordinates': '30W300x-40E400x',\n",
       " 'domicile': {'address': '123 Sesame St',\n",
       "  'city': 'Charlottesville',\n",
       "  'state': 'VA'},\n",
       " 'name': 'Jones',\n",
       " 'parents': [{'age': '38', 'name': 'Pat'}, {'age': '35', 'name': 'Kelly'}],\n",
       " 'pets': ['Sparky', 'Pluto', 'Max']}"
      ]
     },
     "execution_count": 49,
     "metadata": {},
     "output_type": "execute_result"
    }
   ],
   "source": [
    "pethenge.retrieve(digest, reclimit=3)"
   ]
  },
  {
   "cell_type": "markdown",
   "metadata": {},
   "source": [
    "By the time we get to `reclimit=3`, we're done recursing and we've populated the whole object from its components. Each of these henge_class objects at any level in the hierarchy can be used just as if they were top-level objects in the henge:"
   ]
  },
  {
   "cell_type": "code",
   "execution_count": 50,
   "metadata": {},
   "outputs": [
    {
     "name": "stdout",
     "output_type": "stream",
     "text": [
      "3692faf65ba433320207fe4cb3659c4c\n"
     ]
    },
    {
     "data": {
      "text/plain": [
       "[{'age': '2', 'name': 'Oedipus'}]"
      ]
     },
     "execution_count": 50,
     "metadata": {},
     "output_type": "execute_result"
    }
   ],
   "source": [
    "children_digest=pethenge.retrieve(digest, reclimit=0)[\"children\"]\n",
    "print(children_digest)\n",
    "pethenge.retrieve(children_digest)"
   ]
  },
  {
   "cell_type": "code",
   "execution_count": 51,
   "metadata": {},
   "outputs": [
    {
     "data": {
      "text/plain": [
       "{'e0f5f7fe2b319df11d1148e6505e8c7a': 'address,123 Sesame St,city,Charlottesville,state,VA',\n",
       " 'e0f5f7fe2b319df11d1148e6505e8c7a_item_type': 'location',\n",
       " 'e0f5f7fe2b319df11d1148e6505e8c7a_digest_version': 'md5',\n",
       " '9d9cdda81935946a4b3bfa596fcdb7ac': 'Sparky,Pluto,Max',\n",
       " '9d9cdda81935946a4b3bfa596fcdb7ac_item_type': 'array',\n",
       " '9d9cdda81935946a4b3bfa596fcdb7ac_digest_version': 'md5',\n",
       " '1a74f8f147bb18aff8ab572184acc191': '30W300x-40E400x',\n",
       " '1a74f8f147bb18aff8ab572184acc191_item_type': 'recprim',\n",
       " '1a74f8f147bb18aff8ab572184acc191_digest_version': 'md5',\n",
       " 'b72919f8796567779510252008cb4d1f': 'age,38,name,Pat',\n",
       " 'b72919f8796567779510252008cb4d1f_item_type': 'person',\n",
       " 'b72919f8796567779510252008cb4d1f_digest_version': 'md5',\n",
       " '603c37a8fb8c520f1f76458ebc345eb2': 'age,35,name,Kelly',\n",
       " '603c37a8fb8c520f1f76458ebc345eb2_item_type': 'person',\n",
       " '603c37a8fb8c520f1f76458ebc345eb2_digest_version': 'md5',\n",
       " 'af8b184833fd3f6e59108cf2435df17e': 'b72919f8796567779510252008cb4d1f,603c37a8fb8c520f1f76458ebc345eb2',\n",
       " 'af8b184833fd3f6e59108cf2435df17e_item_type': 'people',\n",
       " 'af8b184833fd3f6e59108cf2435df17e_digest_version': 'md5',\n",
       " '45c416044ca980e4bcb1d8184cfcfe47': 'age,2,name,Oedipus',\n",
       " '45c416044ca980e4bcb1d8184cfcfe47_item_type': 'person',\n",
       " '45c416044ca980e4bcb1d8184cfcfe47_digest_version': 'md5',\n",
       " '3692faf65ba433320207fe4cb3659c4c': '45c416044ca980e4bcb1d8184cfcfe47',\n",
       " '3692faf65ba433320207fe4cb3659c4c_item_type': 'people',\n",
       " '3692faf65ba433320207fe4cb3659c4c_digest_version': 'md5',\n",
       " 'e1385146f33d12175b1d1aca483955f4': 'children,3692faf65ba433320207fe4cb3659c4c,coordinates,1a74f8f147bb18aff8ab572184acc191,domicile,e0f5f7fe2b319df11d1148e6505e8c7a,name,Jones,parents,af8b184833fd3f6e59108cf2435df17e,pets,9d9cdda81935946a4b3bfa596fcdb7ac',\n",
       " 'e1385146f33d12175b1d1aca483955f4_item_type': 'family',\n",
       " 'e1385146f33d12175b1d1aca483955f4_digest_version': 'md5'}"
      ]
     },
     "execution_count": 51,
     "metadata": {},
     "output_type": "execute_result"
    }
   ],
   "source": [
    "pethenge.database"
   ]
  },
  {
   "cell_type": "markdown",
   "metadata": {},
   "source": [
    "## So what?\n",
    "\n",
    "What's great about this is that you save storage space in your database for duplicate items, you can retrieve structured data of arbitrary complexity. Admittedly, the family example is a bit contrived, but imagine if your data objects have components that are repeated as elements of other objects. Instead of storing each individually, and not having knowledge about the identity relationships there, henge stores each item exactly once. You can also just grab the checksums so you know what items are present if that's what you need."
   ]
  },
  {
   "cell_type": "code",
   "execution_count": 52,
   "metadata": {},
   "outputs": [
    {
     "name": "stdout",
     "output_type": "stream",
     "text": [
      "description: \"A collection of arrays\"\r\n",
      "type: object\r\n",
      "henge_class: arrayset\r\n",
      "properties:\r\n",
      "  array1:\r\n",
      "    description: \"An array of items.\"\r\n",
      "    type: array\r\n",
      "    henge_class: array\r\n",
      "    items:\r\n",
      "      type: string\r\n",
      "  array2:\r\n",
      "    description: \"An array of items.\"\r\n",
      "    type: array\r\n",
      "    henge_class: array\r\n",
      "    items:\r\n",
      "      type: string\r\n",
      "  array3:\r\n",
      "    description: \"An array of items. Not henge-classed\"\r\n",
      "    type: array\r\n",
      "    henge_class: array\r\n",
      "    items:\r\n",
      "      type: string\r\n"
     ]
    }
   ],
   "source": [
    "!cat \"../tests/data/array_set.yaml\"\n"
   ]
  },
  {
   "cell_type": "code",
   "execution_count": 53,
   "metadata": {},
   "outputs": [],
   "source": [
    "import henge \n",
    "import logmuse \n",
    "ashenge = henge.Henge(database={}, schemas=[\"../tests/data/array_set.yaml\"])\n",
    "\n",
    "myas = {'array3': [\"1\", \"2\"],\n",
    "         'array2': [\"a\", \"b\", \"c\"],\n",
    "         'array1': [\"Sparky\", \"Pluto\", \"Max\"],\n",
    "}"
   ]
  },
  {
   "cell_type": "code",
   "execution_count": 54,
   "metadata": {},
   "outputs": [],
   "source": [
    "digest = ashenge.insert(myas, \"arrayset\")"
   ]
  },
  {
   "cell_type": "code",
   "execution_count": 55,
   "metadata": {},
   "outputs": [
    {
     "data": {
      "text/plain": [
       "{'array1': ['Sparky', 'Pluto', 'Max'],\n",
       " 'array2': ['a', 'b', 'c'],\n",
       " 'array3': ['1', '2']}"
      ]
     },
     "execution_count": 55,
     "metadata": {},
     "output_type": "execute_result"
    }
   ],
   "source": [
    "ashenge.retrieve(digest)"
   ]
  },
  {
   "cell_type": "code",
   "execution_count": 56,
   "metadata": {},
   "outputs": [
    {
     "data": {
      "text/plain": [
       "{'array1': '9d9cdda81935946a4b3bfa596fcdb7ac',\n",
       " 'array2': 'a44c56c8177e32d3613988f4dba7962e',\n",
       " 'array3': '05cf281c050be3da4eecf3bc6e8aac1b'}"
      ]
     },
     "execution_count": 56,
     "metadata": {},
     "output_type": "execute_result"
    }
   ],
   "source": [
    "ashenge.retrieve(digest, reclimit=0)"
   ]
  },
  {
   "cell_type": "code",
   "execution_count": null,
   "metadata": {},
   "outputs": [],
   "source": []
  }
 ],
 "metadata": {
  "kernelspec": {
   "display_name": "Python 3",
   "language": "python",
   "name": "python3"
  },
  "language_info": {
   "codemirror_mode": {
    "name": "ipython",
    "version": 3
   },
   "file_extension": ".py",
   "mimetype": "text/x-python",
   "name": "python",
   "nbconvert_exporter": "python",
   "pygments_lexer": "ipython3",
   "version": "3.8.5"
  }
 },
 "nbformat": 4,
 "nbformat_minor": 4
}
